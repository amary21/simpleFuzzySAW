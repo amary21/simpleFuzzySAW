{
 "cells": [
  {
   "cell_type": "code",
   "execution_count": 2,
   "metadata": {},
   "outputs": [],
   "source": [
    "brand = [\"Traktor IMPALA X RD65 DI-2S/RB. 720 (KIT)\",\n",
    "         \"Traktor G600 X RD65 DI-2S/05 (KIT)\",\n",
    "         \"Traktor G300015 Zeva X RD 85 DI ? 2S / V-78 / STD/ 5 (KIT)\",\n",
    "         \"Traktor G1000X RD 85 DI – 2S/ STD/ 35 (KIT)\"\n",
    "        ]\n",
    "\n",
    "criteria = [\"kapasitas lahan sawah(jam/ha)\", \n",
    "            \"kapasitaslahan kering(jam/ha)\",\n",
    "            \"tenaga rata-rata(N.m)\",\"tenaga Maksimum(N.m)\",\n",
    "            \"Isi bahan bakar\",\n",
    "            \"berat\",\"dimensi\",\"harga\"\n",
    "           ]\n",
    "\n",
    "criteriaGroup = [\"benefit\",\n",
    "                 \"benefit\",\n",
    "                 \"benefit\",\n",
    "                 \"benefit\",\n",
    "                 \"benefit\",\n",
    "                 \"benefit\",\n",
    "                 \"benefit\",\n",
    "                 \"cost\"\n",
    "                ]\n",
    "\n",
    "w = [0.5, 0.25, 0.75, 0.75, 0.5, 0.75, 0.75, 1]\n",
    "\n",
    "alternative = [\n",
    "    [13.44, 13.68, 2.3, 2.7, 8, 450, 2635820.945, 21320000],\n",
    "    [12.92, 13.44, 2.3, 2.7, 8, 210.453, 2589641.434,22370000],\n",
    "    [10.28, 9.53, 3.1, 3.6, 9.5, 255.639, 3540319.612,26860000],\n",
    "    [10.15, 9.35, 3.1, 3.6, 9.5, 249.663, 3139090.738,25860000]\n",
    "]"
   ]
  },
  {
   "cell_type": "code",
   "execution_count": 22,
   "metadata": {},
   "outputs": [],
   "source": [
    "minmax = []\n",
    "normalization = []\n",
    "for i in range(len(criteria)):\n",
    "    minmax.append(0)\n",
    "    for j in range(len(brand)):\n",
    "        if criteriaGroup[i] == 'cost':\n",
    "            if j == 0:\n",
    "                minmax[i] = alternative[j][i]\n",
    "            else:\n",
    "                if minmax[i] > alternative[j][i]:\n",
    "                    minmax[i] = alternative[j][i]\n",
    "    else:\n",
    "        if j == 0:\n",
    "            minmax[i] = alternative[j][i]\n",
    "        else:\n",
    "            if minmax[i] < alternative[j][i]:\n",
    "                minmax[i] = alternative[j][i]\n",
    "                \n",
    "for i in range(len(brand)):\n",
    "    normalization.append([])\n",
    "    for j in range(len(criteria)):\n",
    "        normalization[i].append(0)\n",
    "        if criteriaGroup[j] == 'cost':\n",
    "            normalization[i][j] = minmax[j]/alternative[i][j]\n",
    "        else:\n",
    "            normalization[i][j] = alternative[i][j]/minmax[j]"
   ]
  },
  {
   "cell_type": "code",
   "execution_count": 23,
   "metadata": {},
   "outputs": [
    {
     "data": {
      "text/plain": [
       "[[1.3241379310344827,\n",
       "  1.463101604278075,\n",
       "  0.7419354838709676,\n",
       "  0.75,\n",
       "  0.8421052631578947,\n",
       "  1.8024296752021725,\n",
       "  0.8396765703814453,\n",
       "  1.2129455909943714],\n",
       " [1.2729064039408866,\n",
       "  1.437433155080214,\n",
       "  0.7419354838709676,\n",
       "  0.75,\n",
       "  0.8421052631578947,\n",
       "  0.8429482943007174,\n",
       "  0.8249654597910511,\n",
       "  1.1560125167635227],\n",
       " [1.012807881773399,\n",
       "  1.0192513368983958,\n",
       "  1.0,\n",
       "  1.0,\n",
       "  1.0,\n",
       "  1.0239362660866849,\n",
       "  1.1278169086171859,\n",
       "  0.9627699180938198],\n",
       " [1.0, 1.0, 1.0, 1.0, 1.0, 1.0, 1.0, 1.0]]"
      ]
     },
     "execution_count": 23,
     "metadata": {},
     "output_type": "execute_result"
    }
   ],
   "source": [
    "normal"
   ]
  },
  {
   "cell_type": "code",
   "execution_count": 13,
   "metadata": {},
   "outputs": [],
   "source": [
    "ranking = []\n",
    "for i in range(len(brand)):\n",
    "    ranking.append(0)\n",
    "    for j in range(len(criteria)):\n",
    "        ranking[i] = (normal[i][j] * w[j]) + ranking[i]\n",
    "\n",
    "brandRanking = []\n",
    "alterRanking = []\n",
    "\n",
    "for i in range(len(brand)):\n",
    "    alterRanking.append(ranking[i])\n",
    "    brandRanking.append(brand[i])\n",
    "\n",
    "for i in range(len(brand)):\n",
    "    for j in range(len(brand)):\n",
    "        if j > i:\n",
    "            if alterRanking[j] > alterRanking[i]:\n",
    "                tmpRanking = alterRanking[i]\n",
    "                tmpBrand = brandRanking[i]\n",
    "                alterRanking[i] = alterRanking[j]\n",
    "                brandRanking[i] = brandRanking[j]\n",
    "                alterRanking[j] = tmpRanking\n",
    "                brandRanking[j] = tmpBrand"
   ]
  },
  {
   "cell_type": "code",
   "execution_count": 16,
   "metadata": {},
   "outputs": [
    {
     "data": {
      "text/plain": [
       "['Traktor IMPALA X RD65 DI-2S/RB. 720 (KIT)',\n",
       " 'Traktor G300015 Zeva X RD 85 DI ? 2S / V-78 / STD/ 5 (KIT)',\n",
       " 'Traktor G1000X RD 85 DI – 2S/ STD/ 35 (KIT)',\n",
       " 'Traktor G600 X RD65 DI-2S/05 (KIT)']"
      ]
     },
     "execution_count": 16,
     "metadata": {},
     "output_type": "execute_result"
    }
   ],
   "source": [
    "brandRanking"
   ]
  },
  {
   "cell_type": "code",
   "execution_count": 18,
   "metadata": {},
   "outputs": [
    {
     "data": {
      "text/plain": [
       "[5.762373886251018, 5.337801574233021, 5.25, 4.942763567555019]"
      ]
     },
     "execution_count": 18,
     "metadata": {},
     "output_type": "execute_result"
    }
   ],
   "source": [
    "alterRanking"
   ]
  },
  {
   "cell_type": "code",
   "execution_count": 20,
   "metadata": {},
   "outputs": [
    {
     "name": "stdout",
     "output_type": "stream",
     "text": [
      "recommendation brand :\n"
     ]
    },
    {
     "data": {
      "text/plain": [
       "'Traktor IMPALA X RD65 DI-2S/RB. 720 (KIT)'"
      ]
     },
     "execution_count": 20,
     "metadata": {},
     "output_type": "execute_result"
    }
   ],
   "source": [
    "\n",
    "print('recommendation brand :')\n",
    "brandRanking[0]"
   ]
  }
 ],
 "metadata": {
  "kernelspec": {
   "display_name": "Python 3",
   "language": "python",
   "name": "python3"
  },
  "language_info": {
   "codemirror_mode": {
    "name": "ipython",
    "version": 3
   },
   "file_extension": ".py",
   "mimetype": "text/x-python",
   "name": "python",
   "nbconvert_exporter": "python",
   "pygments_lexer": "ipython3",
   "version": "3.7.4"
  }
 },
 "nbformat": 4,
 "nbformat_minor": 4
}
